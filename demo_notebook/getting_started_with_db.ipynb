{
  "cells": [
    {
      "cell_type": "markdown",
      "metadata": {
        "id": "gB2CMy9cBqSw"
      },
      "source": [
        "## Set up dev environment"
      ]
    },
    {
      "cell_type": "markdown",
      "metadata": {
        "id": "DG_UXFSgNnWs"
      },
      "source": [
        "### Setting up env variables\n",
        "\n",
        "- Consider changing the details in case using local machine according to your system requirements\n"
      ]
    },
    {
      "cell_type": "code",
      "execution_count": null,
      "metadata": {
        "colab": {
          "base_uri": "https://localhost:8080/"
        },
        "id": "PV4RBLsnNu8Q",
        "outputId": "10beba8c-2c25-4041-c94e-3700f6c72832"
      },
      "outputs": [
        {
          "name": "stdout",
          "output_type": "stream",
          "text": [
            "env: DATABASE_HOST=localhost\n",
            "env: DATABASE_PORT=5432\n",
            "env: DATABASE_USER=postgres\n",
            "env: DATABASE_PASS=postgres\n",
            "env: DATABASE_NAME=demo\n"
          ]
        }
      ],
      "source": [
        "%env DATABASE_HOST=localhost\n",
        "%env DATABASE_PORT=5432\n",
        "%env DATABASE_USER=postgres\n",
        "%env DATABASE_PASS=postgres\n",
        "%env DATABASE_NAME=demo"
      ]
    },
    {
      "cell_type": "markdown",
      "metadata": {
        "id": "uqjKT9EJNfkS"
      },
      "source": [
        "### Installing Posgresql database\n",
        " - use this in case your system do not have posgresql installed\n",
        " - Incase you are using colab then you need to use this execution"
      ]
    },
    {
      "cell_type": "code",
      "execution_count": null,
      "metadata": {
        "colab": {
          "base_uri": "https://localhost:8080/"
        },
        "id": "VyAY5hJCMPwh",
        "outputId": "40b726a0-6179-4c26-9664-13222029db35"
      },
      "outputs": [
        {
          "name": "stdout",
          "output_type": "stream",
          "text": [
            " * Starting PostgreSQL 12 database server\n",
            "   ...done.\n",
            "ALTER ROLE\n"
          ]
        }
      ],
      "source": [
        "# Install postgresql server\n",
        "!sudo apt-get -y -qq update\n",
        "!sudo apt-get -y -qq install postgresql\n",
        "!sudo service postgresql start\n",
        "\n",
        "# Setup a password `postgres` for username `postgres`\n",
        "!sudo -u postgres psql -U postgres -c \"ALTER USER postgres PASSWORD 'postgres';\"\n"
      ]
    },
    {
      "cell_type": "markdown",
      "metadata": {
        "id": "rHOeXphXOTd8"
      },
      "source": [
        "### Cloning the mathesar repository\n",
        "- Directly getting the latest db repo from github"
      ]
    },
    {
      "cell_type": "code",
      "execution_count": null,
      "metadata": {
        "colab": {
          "base_uri": "https://localhost:8080/"
        },
        "id": "l2u7pUApOFKu",
        "outputId": "d77fbd95-7ebc-4997-94aa-643197656036"
      },
      "outputs": [
        {
          "name": "stdout",
          "output_type": "stream",
          "text": [
            "fatal: destination path 'mathesar' already exists and is not an empty directory.\n"
          ]
        }
      ],
      "source": [
        "!git clone https://github.com/centerofci/mathesar.git"
      ]
    },
    {
      "cell_type": "markdown",
      "metadata": {
        "id": "x0ktgNSsD9zL"
      },
      "source": [
        "### Install requirements \n",
        "- Install only the nessary requirements\n"
      ]
    },
    {
      "cell_type": "code",
      "execution_count": null,
      "metadata": {
        "colab": {
          "base_uri": "https://localhost:8080/"
        },
        "id": "wRn1LLCsQ4D-",
        "outputId": "7d1c849e-7abc-4343-e14a-a0ae33a31c95"
      },
      "outputs": [
        {
          "name": "stdout",
          "output_type": "stream",
          "text": [
            "Looking in indexes: https://pypi.org/simple, https://us-python.pkg.dev/colab-wheels/public/simple/\n",
            "Requirement already satisfied: pglast==3.4 in /usr/local/lib/python3.9/dist-packages (3.4)\n",
            "Requirement already satisfied: setuptools in /usr/local/lib/python3.9/dist-packages (from pglast==3.4) (67.6.1)\n",
            "Looking in indexes: https://pypi.org/simple, https://us-python.pkg.dev/colab-wheels/public/simple/\n",
            "Requirement already satisfied: pipreqs in /usr/local/lib/python3.9/dist-packages (0.4.11)\n",
            "Requirement already satisfied: docopt in /usr/local/lib/python3.9/dist-packages (from pipreqs) (0.6.2)\n",
            "Requirement already satisfied: yarg in /usr/local/lib/python3.9/dist-packages (from pipreqs) (0.1.9)\n",
            "Requirement already satisfied: requests in /usr/local/lib/python3.9/dist-packages (from yarg->pipreqs) (2.27.1)\n",
            "Requirement already satisfied: idna<4,>=2.5 in /usr/local/lib/python3.9/dist-packages (from requests->yarg->pipreqs) (3.4)\n",
            "Requirement already satisfied: charset-normalizer~=2.0.0 in /usr/local/lib/python3.9/dist-packages (from requests->yarg->pipreqs) (2.0.12)\n",
            "Requirement already satisfied: certifi>=2017.4.17 in /usr/local/lib/python3.9/dist-packages (from requests->yarg->pipreqs) (2022.12.7)\n",
            "Requirement already satisfied: urllib3<1.27,>=1.21.1 in /usr/local/lib/python3.9/dist-packages (from requests->yarg->pipreqs) (1.26.15)\n",
            "WARNING: requirements.txt already exists, use --force to overwrite it\n",
            "Looking in indexes: https://pypi.org/simple, https://us-python.pkg.dev/colab-wheels/public/simple/\n",
            "Requirement already satisfied: alembic==1.10.3 in /usr/local/lib/python3.9/dist-packages (from -r /content/mathesar/db/requirements.txt (line 1)) (1.10.3)\n",
            "Requirement already satisfied: frozendict==2.3.6 in /usr/local/lib/python3.9/dist-packages (from -r /content/mathesar/db/requirements.txt (line 2)) (2.3.6)\n",
            "Requirement already satisfied: pglast==3.4 in /usr/local/lib/python3.9/dist-packages (from -r /content/mathesar/db/requirements.txt (line 3)) (3.4)\n",
            "Requirement already satisfied: psycopg==3.1.8 in /usr/local/lib/python3.9/dist-packages (from -r /content/mathesar/db/requirements.txt (line 4)) (3.1.8)\n",
            "Requirement already satisfied: psycopg2==2.9.6 in /usr/local/lib/python3.9/dist-packages (from -r /content/mathesar/db/requirements.txt (line 5)) (2.9.6)\n",
            "Requirement already satisfied: pytest==7.2.2 in /usr/local/lib/python3.9/dist-packages (from -r /content/mathesar/db/requirements.txt (line 6)) (7.2.2)\n",
            "Requirement already satisfied: SQLAlchemy==1.4.47 in /usr/local/lib/python3.9/dist-packages (from -r /content/mathesar/db/requirements.txt (line 7)) (1.4.47)\n",
            "Requirement already satisfied: sqlalchemy_filters==0.12.0 in /usr/local/lib/python3.9/dist-packages (from -r /content/mathesar/db/requirements.txt (line 8)) (0.12.0)\n",
            "Requirement already satisfied: sqlalchemy_utils==0.40.0 in /usr/local/lib/python3.9/dist-packages (from -r /content/mathesar/db/requirements.txt (line 9)) (0.40.0)\n",
            "Requirement already satisfied: typing-extensions>=4 in /usr/local/lib/python3.9/dist-packages (from alembic==1.10.3->-r /content/mathesar/db/requirements.txt (line 1)) (4.5.0)\n",
            "Requirement already satisfied: Mako in /usr/local/lib/python3.9/dist-packages (from alembic==1.10.3->-r /content/mathesar/db/requirements.txt (line 1)) (1.2.4)\n",
            "Requirement already satisfied: setuptools in /usr/local/lib/python3.9/dist-packages (from pglast==3.4->-r /content/mathesar/db/requirements.txt (line 3)) (67.6.1)\n",
            "Requirement already satisfied: pluggy<2.0,>=0.12 in /usr/local/lib/python3.9/dist-packages (from pytest==7.2.2->-r /content/mathesar/db/requirements.txt (line 6)) (1.0.0)\n",
            "Requirement already satisfied: packaging in /usr/local/lib/python3.9/dist-packages (from pytest==7.2.2->-r /content/mathesar/db/requirements.txt (line 6)) (23.0)\n",
            "Requirement already satisfied: exceptiongroup>=1.0.0rc8 in /usr/local/lib/python3.9/dist-packages (from pytest==7.2.2->-r /content/mathesar/db/requirements.txt (line 6)) (1.1.1)\n",
            "Requirement already satisfied: iniconfig in /usr/local/lib/python3.9/dist-packages (from pytest==7.2.2->-r /content/mathesar/db/requirements.txt (line 6)) (2.0.0)\n",
            "Requirement already satisfied: tomli>=1.0.0 in /usr/local/lib/python3.9/dist-packages (from pytest==7.2.2->-r /content/mathesar/db/requirements.txt (line 6)) (2.0.1)\n",
            "Requirement already satisfied: attrs>=19.2.0 in /usr/local/lib/python3.9/dist-packages (from pytest==7.2.2->-r /content/mathesar/db/requirements.txt (line 6)) (22.2.0)\n",
            "Requirement already satisfied: greenlet!=0.4.17 in /usr/local/lib/python3.9/dist-packages (from SQLAlchemy==1.4.47->-r /content/mathesar/db/requirements.txt (line 7)) (2.0.2)\n",
            "Requirement already satisfied: six>=1.10.0 in /usr/local/lib/python3.9/dist-packages (from sqlalchemy_filters==0.12.0->-r /content/mathesar/db/requirements.txt (line 8)) (1.16.0)\n",
            "Requirement already satisfied: MarkupSafe>=0.9.2 in /usr/local/lib/python3.9/dist-packages (from Mako->alembic==1.10.3->-r /content/mathesar/db/requirements.txt (line 1)) (2.1.2)\n"
          ]
        }
      ],
      "source": [
        "%pip install \"pglast==3.4\"\n",
        "%pip3 install pipreqs\n",
        "%pipreqs \"/content/mathesar/db\"\n",
        "%pip3 install -r \"/content/mathesar/db/requirements.txt\""
      ]
    },
    {
      "cell_type": "markdown",
      "metadata": {
        "id": "_6KFB9QLEOEy"
      },
      "source": [
        "### Set up dev environment\n",
        "\n",
        "- Moving the db repo to main environment"
      ]
    },
    {
      "cell_type": "code",
      "execution_count": null,
      "metadata": {
        "id": "yhu2emcQQo0w"
      },
      "outputs": [],
      "source": [
        "#moving db to main dev environment\n",
        "%cp -r \"mathesar/db\" \".\""
      ]
    },
    {
      "cell_type": "markdown",
      "metadata": {
        "id": "mD1BoIyCEcqZ"
      },
      "source": [
        "## Start development"
      ]
    },
    {
      "cell_type": "markdown",
      "metadata": {
        "id": "t_RazWMWEhUP"
      },
      "source": [
        "### Installing mathesar on the database\n",
        "\n",
        "> Initial setup\n",
        "\n"
      ]
    },
    {
      "cell_type": "code",
      "execution_count": null,
      "metadata": {
        "colab": {
          "base_uri": "https://localhost:8080/"
        },
        "id": "uxpsiAPwPb3v",
        "outputId": "c4b2f903-8ca0-445a-c9ae-41d64f34a26c"
      },
      "outputs": [
        {
          "name": "stdout",
          "output_type": "stream",
          "text": [
            "Created DB is demo.\n",
            "Installing Mathesar on PostgreSQL database demo at host localhost...\n"
          ]
        }
      ],
      "source": [
        "from db.install import install_mathesar\n",
        "import os\n",
        "#installing mathesar\n",
        "\n",
        "install_mathesar(database_name=os.environ['DATABASE_NAME'],\n",
        "                 username=os.environ['DATABASE_USER'],\n",
        "                 password=os.environ['DATABASE_PASS'],\n",
        "                 hostname=os.environ['DATABASE_HOST'],\n",
        "                 port=os.environ['DATABASE_PORT'],\n",
        "                 database_type='',\n",
        "                 skip_confirm=True\n",
        "                 )"
      ]
    },
    {
      "cell_type": "markdown",
      "metadata": {
        "id": "MLgxTwWEXOfW"
      },
      "source": [
        "### Getting engine\n",
        "- Here we create the engine for execution\n"
      ]
    },
    {
      "cell_type": "code",
      "execution_count": null,
      "metadata": {
        "id": "exON5gI4W5x6"
      },
      "outputs": [],
      "source": [
        "from db.engine import create_future_engine\n",
        "engine=create_future_engine(database=os.environ['DATABASE_NAME'],\n",
        "                 username=os.environ['DATABASE_USER'],\n",
        "                 password=os.environ['DATABASE_PASS'],\n",
        "                 hostname=os.environ['DATABASE_HOST'],\n",
        "                 port=os.environ['DATABASE_PORT'],)"
      ]
    },
    {
      "cell_type": "markdown",
      "metadata": {
        "id": "vZ_APl9pEoxP"
      },
      "source": [
        "### Setting schema"
      ]
    },
    {
      "cell_type": "code",
      "execution_count": null,
      "metadata": {
        "id": "oFcbloTIsbtH"
      },
      "outputs": [],
      "source": [
        "from db.schemas.operations.create import create_schema\n",
        "schema_name=\"MYSchema\"\n",
        "schema=create_schema(schema_name,engine,)"
      ]
    },
    {
      "cell_type": "markdown",
      "metadata": {
        "id": "N8la4q1RE9dz"
      },
      "source": [
        "### Creating the Table"
      ]
    },
    {
      "cell_type": "code",
      "execution_count": null,
      "metadata": {
        "id": "ruRAkiorXbmN"
      },
      "outputs": [],
      "source": [
        "from sqlalchemy.sql.sqltypes import INTEGER\n",
        "from sqlalchemy import VARCHAR, Column, Table, MetaData\n",
        "\n",
        "\n",
        "def create_test_table(table_name, cols, insert_data, schema, engine):\n",
        "    table = Table(\n",
        "        table_name,\n",
        "        MetaData(bind=engine, schema=schema),\n",
        "        *cols\n",
        "    )\n",
        "    table.create()\n",
        "    with engine.begin() as conn:\n",
        "        for data in insert_data:\n",
        "            conn.execute(table.insert().values(data))\n",
        "    table.schema=schema\n",
        "    return table\n",
        "\n",
        "def create_pizza_table(engine, schema):\n",
        "    table_name = 'Pizzas18'\n",
        "    cols = [\n",
        "        Column('ID',VARCHAR,primary_key=True),\n",
        "        Column('Pizza', VARCHAR),\n",
        "        Column('Checkbox', VARCHAR),\n",
        "        Column('Rating', VARCHAR)\n",
        "    ]\n",
        "    insert_data = [\n",
        "        (\"1\", 'Pepperoni', 'true', '4.0'),\n",
        "        ( \"2\",'Supreme', 'false', '5.0'),\n",
        "        ( \"3\",'Hawaiian', 'true', '3.5')\n",
        "    ]\n",
        "    return create_test_table(table_name, cols, insert_data, schema, engine)\n",
        "\n",
        "\n",
        "\n",
        "table=create_pizza_table(engine,schema)"
      ]
    },
    {
      "cell_type": "markdown",
      "metadata": {
        "id": "bYLa17H2FLD6"
      },
      "source": [
        "### Simple CRUD application\n",
        "\n",
        "- creating record into a table\n",
        "- reading records from table\n",
        "- updating record in table\n",
        "- Delete record"
      ]
    },
    {
      "cell_type": "markdown",
      "metadata": {
        "id": "vf9ytNmdFe1m"
      },
      "source": [
        "#### Create records"
      ]
    },
    {
      "cell_type": "code",
      "execution_count": null,
      "metadata": {
        "id": "7BW57dNBFsM4"
      },
      "outputs": [],
      "source": [
        "from db.utils import execute_statement\n",
        "\n",
        "def create_records(records:list,engine=engine)->None:\n",
        "    execute_statement(engine,table.insert().values(records))\n"
      ]
    },
    {
      "cell_type": "markdown",
      "metadata": {
        "id": "WfI6IuBEP55y"
      },
      "source": [
        "#### Reading records"
      ]
    },
    {
      "cell_type": "code",
      "execution_count": null,
      "metadata": {
        "id": "lbMwNLtmyiTr"
      },
      "outputs": [],
      "source": [
        "from db.records.operations.select import get_records\n",
        "def read_records(table=table,engine=engine)->list:\n",
        "    records=get_records(table,engine)\n",
        "    return records\n"
      ]
    },
    {
      "cell_type": "markdown",
      "metadata": {
        "id": "RLSGI_PGR9pc"
      },
      "source": [
        "#### update records"
      ]
    },
    {
      "cell_type": "code",
      "execution_count": null,
      "metadata": {
        "id": "sgD4QzLoStuW"
      },
      "outputs": [],
      "source": [
        "from db.records.operations.update import update_record as ur\n",
        "def update_record(record,id,table=table,engine=engine):\n",
        "    ur(table,engine,id,record)\n",
        "update_record((\"1\", 'Mepperoni', 'true', '4.0'),\"1\")       "
      ]
    },
    {
      "cell_type": "markdown",
      "metadata": {
        "id": "2ndPtLqBQrRC"
      },
      "source": [
        "#### delete records"
      ]
    },
    {
      "cell_type": "code",
      "execution_count": null,
      "metadata": {
        "id": "77ZTikydA3Nw"
      },
      "outputs": [],
      "source": [
        "from db.records.operations.delete import bulk_delete_records\n",
        "to_delete=['5','6']\n",
        "def delete_records(to_delete_ids:list,table=table,engine=engine)->None:\n",
        "    bulk_delete_records(table,engine,to_delete_ids)\n"
      ]
    },
    {
      "cell_type": "markdown",
      "metadata": {
        "id": "tshK0fuNUKz5"
      },
      "source": [
        "#### execute custom query\n"
      ]
    },
    {
      "cell_type": "code",
      "execution_count": null,
      "metadata": {
        "id": "xJlIqIcPUKYq"
      },
      "outputs": [],
      "source": [
        "from db.utils import execute_statement\n",
        "def custom_query(query):\n",
        "    rs=execute_statement(engine,query)\n",
        "    return rs\n"
      ]
    },
    {
      "cell_type": "markdown",
      "metadata": {
        "id": "gGQ_vz0-UekC"
      },
      "source": [
        "## Testing custom function"
      ]
    },
    {
      "cell_type": "markdown",
      "metadata": {
        "id": "1kG0-RbVUwoE"
      },
      "source": [
        "#### creating records"
      ]
    },
    {
      "cell_type": "code",
      "execution_count": null,
      "metadata": {
        "colab": {
          "base_uri": "https://localhost:8080/"
        },
        "id": "RJdHRvTnUiUo",
        "outputId": "114be743-a887-4859-b940-9cc4a9b9785c"
      },
      "outputs": [
        {
          "data": {
            "text/plain": [
              "[('2', 'Supreme', 'false', '5.0'),\n",
              " ('3', 'Hawaiian', 'true', '3.5'),\n",
              " ('1', 'Mepperoni', 'true', '4.0'),\n",
              " ('8', 'Mexican', 'true', '5.5'),\n",
              " ('9', 'Thailand', 'false', '1.5')]"
            ]
          },
          "execution_count": 15,
          "metadata": {},
          "output_type": "execute_result"
        }
      ],
      "source": [
        "create_records(\n",
        "    records=[\n",
        "        ( \"8\",'Mexican', 'true', '5.5'),\n",
        "        (\"9\", 'Thailand', 'false', '1.5')\n",
        "             ]\n",
        "             )\n",
        "read_records()"
      ]
    },
    {
      "cell_type": "markdown",
      "metadata": {
        "id": "bzB2nq42UzGo"
      },
      "source": [
        "#### reading records"
      ]
    },
    {
      "cell_type": "code",
      "execution_count": null,
      "metadata": {
        "colab": {
          "base_uri": "https://localhost:8080/"
        },
        "id": "uRjFkfedRJaK",
        "outputId": "b5ca4ddb-0982-4e0e-a47b-fcd623609212"
      },
      "outputs": [
        {
          "data": {
            "text/plain": [
              "[('2', 'Supreme', 'false', '5.0'),\n",
              " ('3', 'Hawaiian', 'true', '3.5'),\n",
              " ('1', 'Mepperoni', 'true', '4.0'),\n",
              " ('8', 'Mexican', 'true', '5.5'),\n",
              " ('9', 'Thailand', 'false', '1.5')]"
            ]
          },
          "execution_count": 16,
          "metadata": {},
          "output_type": "execute_result"
        }
      ],
      "source": [
        "read_records()"
      ]
    },
    {
      "cell_type": "markdown",
      "metadata": {
        "id": "c8EBLcZdU2vU"
      },
      "source": [
        "#### updating records"
      ]
    },
    {
      "cell_type": "code",
      "execution_count": null,
      "metadata": {
        "colab": {
          "base_uri": "https://localhost:8080/"
        },
        "id": "KJNTt335U97q",
        "outputId": "2a48d8a1-dfc7-48b2-c238-0ac36eaa30b0"
      },
      "outputs": [
        {
          "data": {
            "text/plain": [
              "[('2', 'Supreme', 'false', '5.0'),\n",
              " ('3', 'Hawaiian', 'true', '3.5'),\n",
              " ('1', 'Mepperoni', 'true', '4.0'),\n",
              " ('8', 'Mexican', 'true', '5.5'),\n",
              " ('9', 'Thailand', 'false', '1.5')]"
            ]
          },
          "execution_count": 17,
          "metadata": {},
          "output_type": "execute_result"
        }
      ],
      "source": [
        "to_update=[\n",
        "        ( \"5\",'France', 'true', '5.5'),\n",
        "        (\"6\", 'Thailand', 'false', '1.5')\n",
        "             ]\n",
        "for record in to_update:\n",
        "    update_record(record,record[0])\n",
        "read_records()"
      ]
    },
    {
      "cell_type": "markdown",
      "metadata": {
        "id": "rZczQXthVplL"
      },
      "source": [
        "#### deleting records"
      ]
    },
    {
      "cell_type": "code",
      "execution_count": null,
      "metadata": {
        "colab": {
          "base_uri": "https://localhost:8080/"
        },
        "id": "1NYSab4PVygC",
        "outputId": "1a4bd11f-266f-4331-c325-30ae7c08cd47"
      },
      "outputs": [
        {
          "data": {
            "text/plain": [
              "[('3', 'Hawaiian', 'true', '3.5'),\n",
              " ('8', 'Mexican', 'true', '5.5'),\n",
              " ('9', 'Thailand', 'false', '1.5')]"
            ]
          },
          "execution_count": 18,
          "metadata": {},
          "output_type": "execute_result"
        }
      ],
      "source": [
        "records_to_delete=['1','2']\n",
        "delete_records(records_to_delete)\n",
        "read_records()"
      ]
    },
    {
      "cell_type": "markdown",
      "metadata": {
        "id": "hnGlQiPYWuVr"
      },
      "source": [
        "#### custom statement"
      ]
    },
    {
      "cell_type": "code",
      "execution_count": null,
      "metadata": {
        "colab": {
          "base_uri": "https://localhost:8080/"
        },
        "id": "JJDM5HSW5pGz",
        "outputId": "f9146767-137c-4a39-a4bf-3dea54be8703"
      },
      "outputs": [
        {
          "data": {
            "text/plain": [
              "[('3', 'Hawaiian', 'true', '3.5')]"
            ]
          },
          "execution_count": 22,
          "metadata": {},
          "output_type": "execute_result"
        }
      ],
      "source": [
        "statement=table.select().where(table.columns[0] ==\"3\" )\n",
        "rs=custom_query(statement)\n",
        "list(rs)"
      ]
    }
  ],
  "metadata": {
    "colab": {
      "provenance": []
    },
    "kernelspec": {
      "display_name": "Python 3",
      "name": "python3"
    },
    "language_info": {
      "name": "python",
      "version": "3.10.0"
    }
  },
  "nbformat": 4,
  "nbformat_minor": 0
}
